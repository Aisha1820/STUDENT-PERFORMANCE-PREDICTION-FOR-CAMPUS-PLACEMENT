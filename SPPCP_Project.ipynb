{
  "cells": [
    {
      "cell_type": "markdown",
      "metadata": {
        "id": "view-in-github",
        "colab_type": "text"
      },
      "source": [
        "<a href=\"https://colab.research.google.com/github/Aisha1820/STUDENT-PERFORMANCE-PREDICTION-FOR-CAMPUS-PLACEMENT/blob/main/SPPCP_Project.ipynb\" target=\"_parent\"><img src=\"https://colab.research.google.com/assets/colab-badge.svg\" alt=\"Open In Colab\"/></a>"
      ]
    },
    {
      "cell_type": "code",
      "execution_count": 1,
      "metadata": {
        "id": "U-rxkYHBuPq_"
      },
      "outputs": [],
      "source": [
        "import pandas as pd\n",
        "import numpy as np\n",
        "from sklearn import decomposition\n",
        "import matplotlib.pyplot as plt"
      ]
    },
    {
      "cell_type": "code",
      "execution_count": 2,
      "metadata": {
        "id": "EXv2WWzhuPrC"
      },
      "outputs": [],
      "source": [
        "dataset = pd.read_csv(r\"/content/sample_data/roo_data.csv\")"
      ]
    },
    {
      "cell_type": "code",
      "execution_count": 3,
      "metadata": {
        "colab": {
          "base_uri": "https://localhost:8080/"
        },
        "id": "KzIYdIk5uPrE",
        "outputId": "91b2c890-bf23-4a45-e85b-640584ea4256"
      },
      "outputs": [
        {
          "output_type": "execute_result",
          "data": {
            "text/plain": [
              "38"
            ]
          },
          "metadata": {},
          "execution_count": 3
        }
      ],
      "source": [
        "data = dataset.iloc[:,:-1].values\n",
        "label = dataset.iloc[:,-1].values\n",
        "len(data[0])"
      ]
    },
    {
      "cell_type": "code",
      "execution_count": 4,
      "metadata": {
        "colab": {
          "base_uri": "https://localhost:8080/",
          "height": 748
        },
        "id": "XxesnnbLuPrG",
        "outputId": "3cc0317e-9e64-41eb-93d9-3d394b574b2c"
      },
      "outputs": [
        {
          "output_type": "execute_result",
          "data": {
            "text/plain": [
              "      self-learning capability? Extra-courses did        certifications  \\\n",
              "0                           yes               yes     shell programming   \n",
              "1                            no               yes      machine learning   \n",
              "2                            no               yes       app development   \n",
              "3                           yes                no                python   \n",
              "4                            no                no       app development   \n",
              "...                         ...               ...                   ...   \n",
              "19995                        no                no       app development   \n",
              "19996                        no                no            full stack   \n",
              "19997                       yes               yes  information security   \n",
              "19998                        no                no            full stack   \n",
              "19999                       yes               yes       app development   \n",
              "\n",
              "               workshops talenttests taken? olympiads  \\\n",
              "0        cloud computing                 no       yes   \n",
              "1      database security                 no        no   \n",
              "2       web technologies                 no       yes   \n",
              "3           data science                yes        no   \n",
              "4        cloud computing                 no        no   \n",
              "...                  ...                ...       ...   \n",
              "19995    cloud computing                yes        no   \n",
              "19996   game development                 no       yes   \n",
              "19997  database security                yes       yes   \n",
              "19998    cloud computing                 no       yes   \n",
              "19999  database security                 no       yes   \n",
              "\n",
              "      reading and writing skills memory capability score  \\\n",
              "0                      excellent               excellent   \n",
              "1                           poor                  medium   \n",
              "2                           poor               excellent   \n",
              "3                         medium               excellent   \n",
              "4                           poor               excellent   \n",
              "...                          ...                     ...   \n",
              "19995                       poor               excellent   \n",
              "19996                     medium               excellent   \n",
              "19997                     medium               excellent   \n",
              "19998                       poor                    poor   \n",
              "19999                  excellent               excellent   \n",
              "\n",
              "        interested career area  Job/Higher Studies?  ...  \\\n",
              "0              system developer       higherstudies  ...   \n",
              "1      Business process analyst                 job  ...   \n",
              "2                     developer       higherstudies  ...   \n",
              "3                       testing       higherstudies  ...   \n",
              "4                       testing       higherstudies  ...   \n",
              "...                         ...                 ...  ...   \n",
              "19995          system developer                 job  ...   \n",
              "19996  Business process analyst       higherstudies  ...   \n",
              "19997           cloud computing       higherstudies  ...   \n",
              "19998                   testing                 job  ...   \n",
              "19999                   testing                 job  ...   \n",
              "\n",
              "      Salary Range Expected In a Realtionship? Gentle or Tuff behaviour?  \\\n",
              "0                    salary                 no                  stubborn   \n",
              "1                    salary                yes                    gentle   \n",
              "2                      Work                 no                  stubborn   \n",
              "3                      Work                yes                    gentle   \n",
              "4                    salary                 no                  stubborn   \n",
              "...                     ...                ...                       ...   \n",
              "19995                  Work                yes                  stubborn   \n",
              "19996                salary                 no                  stubborn   \n",
              "19997                  Work                yes                    gentle   \n",
              "19998                  Work                 no                    gentle   \n",
              "19999                  Work                 no                    gentle   \n",
              "\n",
              "      Management or Technical Salary/work hard/smart worker  \\\n",
              "0                  Management      salary       hard worker   \n",
              "1                   Technical      salary       hard worker   \n",
              "2                  Management        work       hard worker   \n",
              "3                  Management        work      smart worker   \n",
              "4                  Management        work       hard worker   \n",
              "...                       ...         ...               ...   \n",
              "19995              Management      salary      smart worker   \n",
              "19996              Management      salary       hard worker   \n",
              "19997               Technical        work       hard worker   \n",
              "19998              Management        work      smart worker   \n",
              "19999              Management        work       hard worker   \n",
              "\n",
              "      worked in teams ever? Introvert weekly test avg backlogs  \n",
              "0                       yes        no             NaN      0.0  \n",
              "1                        no       yes             NaN      1.0  \n",
              "2                        no       yes             NaN      0.0  \n",
              "3                       yes       yes             NaN      0.0  \n",
              "4                       yes       yes             NaN      0.0  \n",
              "...                     ...       ...             ...      ...  \n",
              "19995                   yes        no             NaN      NaN  \n",
              "19996                    no       yes             NaN      NaN  \n",
              "19997                    no       yes             NaN      NaN  \n",
              "19998                   yes        no             NaN      NaN  \n",
              "19999                   yes        no             NaN      NaN  \n",
              "\n",
              "[20000 rows x 24 columns]"
            ],
            "text/html": [
              "\n",
              "  <div id=\"df-62475841-3fdc-4b99-a7c8-0a32d9efc517\">\n",
              "    <div class=\"colab-df-container\">\n",
              "      <div>\n",
              "<style scoped>\n",
              "    .dataframe tbody tr th:only-of-type {\n",
              "        vertical-align: middle;\n",
              "    }\n",
              "\n",
              "    .dataframe tbody tr th {\n",
              "        vertical-align: top;\n",
              "    }\n",
              "\n",
              "    .dataframe thead th {\n",
              "        text-align: right;\n",
              "    }\n",
              "</style>\n",
              "<table border=\"1\" class=\"dataframe\">\n",
              "  <thead>\n",
              "    <tr style=\"text-align: right;\">\n",
              "      <th></th>\n",
              "      <th>self-learning capability?</th>\n",
              "      <th>Extra-courses did</th>\n",
              "      <th>certifications</th>\n",
              "      <th>workshops</th>\n",
              "      <th>talenttests taken?</th>\n",
              "      <th>olympiads</th>\n",
              "      <th>reading and writing skills</th>\n",
              "      <th>memory capability score</th>\n",
              "      <th>interested career area</th>\n",
              "      <th>Job/Higher Studies?</th>\n",
              "      <th>...</th>\n",
              "      <th>Salary Range Expected</th>\n",
              "      <th>In a Realtionship?</th>\n",
              "      <th>Gentle or Tuff behaviour?</th>\n",
              "      <th>Management or Technical</th>\n",
              "      <th>Salary/work</th>\n",
              "      <th>hard/smart worker</th>\n",
              "      <th>worked in teams ever?</th>\n",
              "      <th>Introvert</th>\n",
              "      <th>weekly test avg</th>\n",
              "      <th>backlogs</th>\n",
              "    </tr>\n",
              "  </thead>\n",
              "  <tbody>\n",
              "    <tr>\n",
              "      <th>0</th>\n",
              "      <td>yes</td>\n",
              "      <td>yes</td>\n",
              "      <td>shell programming</td>\n",
              "      <td>cloud computing</td>\n",
              "      <td>no</td>\n",
              "      <td>yes</td>\n",
              "      <td>excellent</td>\n",
              "      <td>excellent</td>\n",
              "      <td>system developer</td>\n",
              "      <td>higherstudies</td>\n",
              "      <td>...</td>\n",
              "      <td>salary</td>\n",
              "      <td>no</td>\n",
              "      <td>stubborn</td>\n",
              "      <td>Management</td>\n",
              "      <td>salary</td>\n",
              "      <td>hard worker</td>\n",
              "      <td>yes</td>\n",
              "      <td>no</td>\n",
              "      <td>NaN</td>\n",
              "      <td>0.0</td>\n",
              "    </tr>\n",
              "    <tr>\n",
              "      <th>1</th>\n",
              "      <td>no</td>\n",
              "      <td>yes</td>\n",
              "      <td>machine learning</td>\n",
              "      <td>database security</td>\n",
              "      <td>no</td>\n",
              "      <td>no</td>\n",
              "      <td>poor</td>\n",
              "      <td>medium</td>\n",
              "      <td>Business process analyst</td>\n",
              "      <td>job</td>\n",
              "      <td>...</td>\n",
              "      <td>salary</td>\n",
              "      <td>yes</td>\n",
              "      <td>gentle</td>\n",
              "      <td>Technical</td>\n",
              "      <td>salary</td>\n",
              "      <td>hard worker</td>\n",
              "      <td>no</td>\n",
              "      <td>yes</td>\n",
              "      <td>NaN</td>\n",
              "      <td>1.0</td>\n",
              "    </tr>\n",
              "    <tr>\n",
              "      <th>2</th>\n",
              "      <td>no</td>\n",
              "      <td>yes</td>\n",
              "      <td>app development</td>\n",
              "      <td>web technologies</td>\n",
              "      <td>no</td>\n",
              "      <td>yes</td>\n",
              "      <td>poor</td>\n",
              "      <td>excellent</td>\n",
              "      <td>developer</td>\n",
              "      <td>higherstudies</td>\n",
              "      <td>...</td>\n",
              "      <td>Work</td>\n",
              "      <td>no</td>\n",
              "      <td>stubborn</td>\n",
              "      <td>Management</td>\n",
              "      <td>work</td>\n",
              "      <td>hard worker</td>\n",
              "      <td>no</td>\n",
              "      <td>yes</td>\n",
              "      <td>NaN</td>\n",
              "      <td>0.0</td>\n",
              "    </tr>\n",
              "    <tr>\n",
              "      <th>3</th>\n",
              "      <td>yes</td>\n",
              "      <td>no</td>\n",
              "      <td>python</td>\n",
              "      <td>data science</td>\n",
              "      <td>yes</td>\n",
              "      <td>no</td>\n",
              "      <td>medium</td>\n",
              "      <td>excellent</td>\n",
              "      <td>testing</td>\n",
              "      <td>higherstudies</td>\n",
              "      <td>...</td>\n",
              "      <td>Work</td>\n",
              "      <td>yes</td>\n",
              "      <td>gentle</td>\n",
              "      <td>Management</td>\n",
              "      <td>work</td>\n",
              "      <td>smart worker</td>\n",
              "      <td>yes</td>\n",
              "      <td>yes</td>\n",
              "      <td>NaN</td>\n",
              "      <td>0.0</td>\n",
              "    </tr>\n",
              "    <tr>\n",
              "      <th>4</th>\n",
              "      <td>no</td>\n",
              "      <td>no</td>\n",
              "      <td>app development</td>\n",
              "      <td>cloud computing</td>\n",
              "      <td>no</td>\n",
              "      <td>no</td>\n",
              "      <td>poor</td>\n",
              "      <td>excellent</td>\n",
              "      <td>testing</td>\n",
              "      <td>higherstudies</td>\n",
              "      <td>...</td>\n",
              "      <td>salary</td>\n",
              "      <td>no</td>\n",
              "      <td>stubborn</td>\n",
              "      <td>Management</td>\n",
              "      <td>work</td>\n",
              "      <td>hard worker</td>\n",
              "      <td>yes</td>\n",
              "      <td>yes</td>\n",
              "      <td>NaN</td>\n",
              "      <td>0.0</td>\n",
              "    </tr>\n",
              "    <tr>\n",
              "      <th>...</th>\n",
              "      <td>...</td>\n",
              "      <td>...</td>\n",
              "      <td>...</td>\n",
              "      <td>...</td>\n",
              "      <td>...</td>\n",
              "      <td>...</td>\n",
              "      <td>...</td>\n",
              "      <td>...</td>\n",
              "      <td>...</td>\n",
              "      <td>...</td>\n",
              "      <td>...</td>\n",
              "      <td>...</td>\n",
              "      <td>...</td>\n",
              "      <td>...</td>\n",
              "      <td>...</td>\n",
              "      <td>...</td>\n",
              "      <td>...</td>\n",
              "      <td>...</td>\n",
              "      <td>...</td>\n",
              "      <td>...</td>\n",
              "      <td>...</td>\n",
              "    </tr>\n",
              "    <tr>\n",
              "      <th>19995</th>\n",
              "      <td>no</td>\n",
              "      <td>no</td>\n",
              "      <td>app development</td>\n",
              "      <td>cloud computing</td>\n",
              "      <td>yes</td>\n",
              "      <td>no</td>\n",
              "      <td>poor</td>\n",
              "      <td>excellent</td>\n",
              "      <td>system developer</td>\n",
              "      <td>job</td>\n",
              "      <td>...</td>\n",
              "      <td>Work</td>\n",
              "      <td>yes</td>\n",
              "      <td>stubborn</td>\n",
              "      <td>Management</td>\n",
              "      <td>salary</td>\n",
              "      <td>smart worker</td>\n",
              "      <td>yes</td>\n",
              "      <td>no</td>\n",
              "      <td>NaN</td>\n",
              "      <td>NaN</td>\n",
              "    </tr>\n",
              "    <tr>\n",
              "      <th>19996</th>\n",
              "      <td>no</td>\n",
              "      <td>no</td>\n",
              "      <td>full stack</td>\n",
              "      <td>game development</td>\n",
              "      <td>no</td>\n",
              "      <td>yes</td>\n",
              "      <td>medium</td>\n",
              "      <td>excellent</td>\n",
              "      <td>Business process analyst</td>\n",
              "      <td>higherstudies</td>\n",
              "      <td>...</td>\n",
              "      <td>salary</td>\n",
              "      <td>no</td>\n",
              "      <td>stubborn</td>\n",
              "      <td>Management</td>\n",
              "      <td>salary</td>\n",
              "      <td>hard worker</td>\n",
              "      <td>no</td>\n",
              "      <td>yes</td>\n",
              "      <td>NaN</td>\n",
              "      <td>NaN</td>\n",
              "    </tr>\n",
              "    <tr>\n",
              "      <th>19997</th>\n",
              "      <td>yes</td>\n",
              "      <td>yes</td>\n",
              "      <td>information security</td>\n",
              "      <td>database security</td>\n",
              "      <td>yes</td>\n",
              "      <td>yes</td>\n",
              "      <td>medium</td>\n",
              "      <td>excellent</td>\n",
              "      <td>cloud computing</td>\n",
              "      <td>higherstudies</td>\n",
              "      <td>...</td>\n",
              "      <td>Work</td>\n",
              "      <td>yes</td>\n",
              "      <td>gentle</td>\n",
              "      <td>Technical</td>\n",
              "      <td>work</td>\n",
              "      <td>hard worker</td>\n",
              "      <td>no</td>\n",
              "      <td>yes</td>\n",
              "      <td>NaN</td>\n",
              "      <td>NaN</td>\n",
              "    </tr>\n",
              "    <tr>\n",
              "      <th>19998</th>\n",
              "      <td>no</td>\n",
              "      <td>no</td>\n",
              "      <td>full stack</td>\n",
              "      <td>cloud computing</td>\n",
              "      <td>no</td>\n",
              "      <td>yes</td>\n",
              "      <td>poor</td>\n",
              "      <td>poor</td>\n",
              "      <td>testing</td>\n",
              "      <td>job</td>\n",
              "      <td>...</td>\n",
              "      <td>Work</td>\n",
              "      <td>no</td>\n",
              "      <td>gentle</td>\n",
              "      <td>Management</td>\n",
              "      <td>work</td>\n",
              "      <td>smart worker</td>\n",
              "      <td>yes</td>\n",
              "      <td>no</td>\n",
              "      <td>NaN</td>\n",
              "      <td>NaN</td>\n",
              "    </tr>\n",
              "    <tr>\n",
              "      <th>19999</th>\n",
              "      <td>yes</td>\n",
              "      <td>yes</td>\n",
              "      <td>app development</td>\n",
              "      <td>database security</td>\n",
              "      <td>no</td>\n",
              "      <td>yes</td>\n",
              "      <td>excellent</td>\n",
              "      <td>excellent</td>\n",
              "      <td>testing</td>\n",
              "      <td>job</td>\n",
              "      <td>...</td>\n",
              "      <td>Work</td>\n",
              "      <td>no</td>\n",
              "      <td>gentle</td>\n",
              "      <td>Management</td>\n",
              "      <td>work</td>\n",
              "      <td>hard worker</td>\n",
              "      <td>yes</td>\n",
              "      <td>no</td>\n",
              "      <td>NaN</td>\n",
              "      <td>NaN</td>\n",
              "    </tr>\n",
              "  </tbody>\n",
              "</table>\n",
              "<p>20000 rows × 24 columns</p>\n",
              "</div>\n",
              "      <button class=\"colab-df-convert\" onclick=\"convertToInteractive('df-62475841-3fdc-4b99-a7c8-0a32d9efc517')\"\n",
              "              title=\"Convert this dataframe to an interactive table.\"\n",
              "              style=\"display:none;\">\n",
              "        \n",
              "  <svg xmlns=\"http://www.w3.org/2000/svg\" height=\"24px\"viewBox=\"0 0 24 24\"\n",
              "       width=\"24px\">\n",
              "    <path d=\"M0 0h24v24H0V0z\" fill=\"none\"/>\n",
              "    <path d=\"M18.56 5.44l.94 2.06.94-2.06 2.06-.94-2.06-.94-.94-2.06-.94 2.06-2.06.94zm-11 1L8.5 8.5l.94-2.06 2.06-.94-2.06-.94L8.5 2.5l-.94 2.06-2.06.94zm10 10l.94 2.06.94-2.06 2.06-.94-2.06-.94-.94-2.06-.94 2.06-2.06.94z\"/><path d=\"M17.41 7.96l-1.37-1.37c-.4-.4-.92-.59-1.43-.59-.52 0-1.04.2-1.43.59L10.3 9.45l-7.72 7.72c-.78.78-.78 2.05 0 2.83L4 21.41c.39.39.9.59 1.41.59.51 0 1.02-.2 1.41-.59l7.78-7.78 2.81-2.81c.8-.78.8-2.07 0-2.86zM5.41 20L4 18.59l7.72-7.72 1.47 1.35L5.41 20z\"/>\n",
              "  </svg>\n",
              "      </button>\n",
              "      \n",
              "  <style>\n",
              "    .colab-df-container {\n",
              "      display:flex;\n",
              "      flex-wrap:wrap;\n",
              "      gap: 12px;\n",
              "    }\n",
              "\n",
              "    .colab-df-convert {\n",
              "      background-color: #E8F0FE;\n",
              "      border: none;\n",
              "      border-radius: 50%;\n",
              "      cursor: pointer;\n",
              "      display: none;\n",
              "      fill: #1967D2;\n",
              "      height: 32px;\n",
              "      padding: 0 0 0 0;\n",
              "      width: 32px;\n",
              "    }\n",
              "\n",
              "    .colab-df-convert:hover {\n",
              "      background-color: #E2EBFA;\n",
              "      box-shadow: 0px 1px 2px rgba(60, 64, 67, 0.3), 0px 1px 3px 1px rgba(60, 64, 67, 0.15);\n",
              "      fill: #174EA6;\n",
              "    }\n",
              "\n",
              "    [theme=dark] .colab-df-convert {\n",
              "      background-color: #3B4455;\n",
              "      fill: #D2E3FC;\n",
              "    }\n",
              "\n",
              "    [theme=dark] .colab-df-convert:hover {\n",
              "      background-color: #434B5C;\n",
              "      box-shadow: 0px 1px 3px 1px rgba(0, 0, 0, 0.15);\n",
              "      filter: drop-shadow(0px 1px 2px rgba(0, 0, 0, 0.3));\n",
              "      fill: #FFFFFF;\n",
              "    }\n",
              "  </style>\n",
              "\n",
              "      <script>\n",
              "        const buttonEl =\n",
              "          document.querySelector('#df-62475841-3fdc-4b99-a7c8-0a32d9efc517 button.colab-df-convert');\n",
              "        buttonEl.style.display =\n",
              "          google.colab.kernel.accessAllowed ? 'block' : 'none';\n",
              "\n",
              "        async function convertToInteractive(key) {\n",
              "          const element = document.querySelector('#df-62475841-3fdc-4b99-a7c8-0a32d9efc517');\n",
              "          const dataTable =\n",
              "            await google.colab.kernel.invokeFunction('convertToInteractive',\n",
              "                                                     [key], {});\n",
              "          if (!dataTable) return;\n",
              "\n",
              "          const docLinkHtml = 'Like what you see? Visit the ' +\n",
              "            '<a target=\"_blank\" href=https://colab.research.google.com/notebooks/data_table.ipynb>data table notebook</a>'\n",
              "            + ' to learn more about interactive tables.';\n",
              "          element.innerHTML = '';\n",
              "          dataTable['output_type'] = 'display_data';\n",
              "          await google.colab.output.renderOutput(dataTable, element);\n",
              "          const docLink = document.createElement('div');\n",
              "          docLink.innerHTML = docLinkHtml;\n",
              "          element.appendChild(docLink);\n",
              "        }\n",
              "      </script>\n",
              "    </div>\n",
              "  </div>\n",
              "  "
            ]
          },
          "metadata": {},
          "execution_count": 4
        }
      ],
      "source": [
        "dataset.iloc[:,14:38]"
      ]
    },
    {
      "cell_type": "code",
      "execution_count": 5,
      "metadata": {
        "colab": {
          "base_uri": "https://localhost:8080/",
          "height": 557
        },
        "id": "w1E9JYy3uPrH",
        "outputId": "6987fbff-a996-460c-be83-b51d1581ae9e"
      },
      "outputs": [
        {
          "output_type": "execute_result",
          "data": {
            "text/plain": [
              "       Acedamic percentage in Operating Systems  percentage in Algorithms  \\\n",
              "0                                            69                        63   \n",
              "1                                            78                        62   \n",
              "2                                            71                        86   \n",
              "3                                            76                        87   \n",
              "4                                            92                        62   \n",
              "...                                         ...                       ...   \n",
              "19995                                        83                        67   \n",
              "19996                                        80                        69   \n",
              "19997                                        83                        70   \n",
              "19998                                        68                        87   \n",
              "19999                                        73                        77   \n",
              "\n",
              "       Percentage in Programming Concepts  Percentage in Software Engineering  \\\n",
              "0                                      78                                  87   \n",
              "1                                      73                                  60   \n",
              "2                                      91                                  87   \n",
              "3                                      60                                  84   \n",
              "4                                      90                                  67   \n",
              "...                                   ...                                 ...   \n",
              "19995                                  62                                  63   \n",
              "19996                                  83                                  87   \n",
              "19997                                  80                                  87   \n",
              "19998                                  91                                  88   \n",
              "19999                                  74                                  84   \n",
              "\n",
              "       Percentage in Computer Networks  Percentage in Electronics Subjects  \\\n",
              "0                                   94                                  94   \n",
              "1                                   71                                  70   \n",
              "2                                   61                                  81   \n",
              "3                                   89                                  73   \n",
              "4                                   71                                  89   \n",
              "...                                ...                                 ...   \n",
              "19995                               81                                  74   \n",
              "19996                               82                                  66   \n",
              "19997                               64                                  85   \n",
              "19998                               66                                  74   \n",
              "19999                               70                                  65   \n",
              "\n",
              "       Percentage in Computer Architecture  Percentage in Mathematics  \\\n",
              "0                                       87                         84   \n",
              "1                                       73                         84   \n",
              "2                                       72                         72   \n",
              "3                                       62                         88   \n",
              "4                                       73                         71   \n",
              "...                                    ...                        ...   \n",
              "19995                                   90                         84   \n",
              "19996                                   66                         92   \n",
              "19997                                   69                         94   \n",
              "19998                                   61                         87   \n",
              "19999                                   92                         73   \n",
              "\n",
              "       Percentage in Communication skills  Hours working per day  \\\n",
              "0                                      61                      9   \n",
              "1                                      91                     12   \n",
              "2                                      94                     11   \n",
              "3                                      69                      7   \n",
              "4                                      73                      4   \n",
              "...                                   ...                    ...   \n",
              "19995                                  69                      4   \n",
              "19996                                  67                      7   \n",
              "19997                                  88                      7   \n",
              "19998                                  61                      5   \n",
              "19999                                  90                      7   \n",
              "\n",
              "       Logical quotient rating  hackathons  coding skills rating  \\\n",
              "0                            4           0                     4   \n",
              "1                            7           1                     2   \n",
              "2                            1           4                     1   \n",
              "3                            1           1                     2   \n",
              "4                            5           4                     6   \n",
              "...                        ...         ...                   ...   \n",
              "19995                        2           6                     1   \n",
              "19996                        8           0                     9   \n",
              "19997                        3           6                     2   \n",
              "19998                        1           4                     9   \n",
              "19999                        3           1                     7   \n",
              "\n",
              "       public speaking points  \n",
              "0                           8  \n",
              "1                           3  \n",
              "2                           3  \n",
              "3                           5  \n",
              "4                           3  \n",
              "...                       ...  \n",
              "19995                       8  \n",
              "19996                       8  \n",
              "19997                       3  \n",
              "19998                       5  \n",
              "19999                       6  \n",
              "\n",
              "[20000 rows x 14 columns]"
            ],
            "text/html": [
              "\n",
              "  <div id=\"df-e3424ee1-a83d-4e3d-a4ca-3a249ecb5aeb\">\n",
              "    <div class=\"colab-df-container\">\n",
              "      <div>\n",
              "<style scoped>\n",
              "    .dataframe tbody tr th:only-of-type {\n",
              "        vertical-align: middle;\n",
              "    }\n",
              "\n",
              "    .dataframe tbody tr th {\n",
              "        vertical-align: top;\n",
              "    }\n",
              "\n",
              "    .dataframe thead th {\n",
              "        text-align: right;\n",
              "    }\n",
              "</style>\n",
              "<table border=\"1\" class=\"dataframe\">\n",
              "  <thead>\n",
              "    <tr style=\"text-align: right;\">\n",
              "      <th></th>\n",
              "      <th>Acedamic percentage in Operating Systems</th>\n",
              "      <th>percentage in Algorithms</th>\n",
              "      <th>Percentage in Programming Concepts</th>\n",
              "      <th>Percentage in Software Engineering</th>\n",
              "      <th>Percentage in Computer Networks</th>\n",
              "      <th>Percentage in Electronics Subjects</th>\n",
              "      <th>Percentage in Computer Architecture</th>\n",
              "      <th>Percentage in Mathematics</th>\n",
              "      <th>Percentage in Communication skills</th>\n",
              "      <th>Hours working per day</th>\n",
              "      <th>Logical quotient rating</th>\n",
              "      <th>hackathons</th>\n",
              "      <th>coding skills rating</th>\n",
              "      <th>public speaking points</th>\n",
              "    </tr>\n",
              "  </thead>\n",
              "  <tbody>\n",
              "    <tr>\n",
              "      <th>0</th>\n",
              "      <td>69</td>\n",
              "      <td>63</td>\n",
              "      <td>78</td>\n",
              "      <td>87</td>\n",
              "      <td>94</td>\n",
              "      <td>94</td>\n",
              "      <td>87</td>\n",
              "      <td>84</td>\n",
              "      <td>61</td>\n",
              "      <td>9</td>\n",
              "      <td>4</td>\n",
              "      <td>0</td>\n",
              "      <td>4</td>\n",
              "      <td>8</td>\n",
              "    </tr>\n",
              "    <tr>\n",
              "      <th>1</th>\n",
              "      <td>78</td>\n",
              "      <td>62</td>\n",
              "      <td>73</td>\n",
              "      <td>60</td>\n",
              "      <td>71</td>\n",
              "      <td>70</td>\n",
              "      <td>73</td>\n",
              "      <td>84</td>\n",
              "      <td>91</td>\n",
              "      <td>12</td>\n",
              "      <td>7</td>\n",
              "      <td>1</td>\n",
              "      <td>2</td>\n",
              "      <td>3</td>\n",
              "    </tr>\n",
              "    <tr>\n",
              "      <th>2</th>\n",
              "      <td>71</td>\n",
              "      <td>86</td>\n",
              "      <td>91</td>\n",
              "      <td>87</td>\n",
              "      <td>61</td>\n",
              "      <td>81</td>\n",
              "      <td>72</td>\n",
              "      <td>72</td>\n",
              "      <td>94</td>\n",
              "      <td>11</td>\n",
              "      <td>1</td>\n",
              "      <td>4</td>\n",
              "      <td>1</td>\n",
              "      <td>3</td>\n",
              "    </tr>\n",
              "    <tr>\n",
              "      <th>3</th>\n",
              "      <td>76</td>\n",
              "      <td>87</td>\n",
              "      <td>60</td>\n",
              "      <td>84</td>\n",
              "      <td>89</td>\n",
              "      <td>73</td>\n",
              "      <td>62</td>\n",
              "      <td>88</td>\n",
              "      <td>69</td>\n",
              "      <td>7</td>\n",
              "      <td>1</td>\n",
              "      <td>1</td>\n",
              "      <td>2</td>\n",
              "      <td>5</td>\n",
              "    </tr>\n",
              "    <tr>\n",
              "      <th>4</th>\n",
              "      <td>92</td>\n",
              "      <td>62</td>\n",
              "      <td>90</td>\n",
              "      <td>67</td>\n",
              "      <td>71</td>\n",
              "      <td>89</td>\n",
              "      <td>73</td>\n",
              "      <td>71</td>\n",
              "      <td>73</td>\n",
              "      <td>4</td>\n",
              "      <td>5</td>\n",
              "      <td>4</td>\n",
              "      <td>6</td>\n",
              "      <td>3</td>\n",
              "    </tr>\n",
              "    <tr>\n",
              "      <th>...</th>\n",
              "      <td>...</td>\n",
              "      <td>...</td>\n",
              "      <td>...</td>\n",
              "      <td>...</td>\n",
              "      <td>...</td>\n",
              "      <td>...</td>\n",
              "      <td>...</td>\n",
              "      <td>...</td>\n",
              "      <td>...</td>\n",
              "      <td>...</td>\n",
              "      <td>...</td>\n",
              "      <td>...</td>\n",
              "      <td>...</td>\n",
              "      <td>...</td>\n",
              "    </tr>\n",
              "    <tr>\n",
              "      <th>19995</th>\n",
              "      <td>83</td>\n",
              "      <td>67</td>\n",
              "      <td>62</td>\n",
              "      <td>63</td>\n",
              "      <td>81</td>\n",
              "      <td>74</td>\n",
              "      <td>90</td>\n",
              "      <td>84</td>\n",
              "      <td>69</td>\n",
              "      <td>4</td>\n",
              "      <td>2</td>\n",
              "      <td>6</td>\n",
              "      <td>1</td>\n",
              "      <td>8</td>\n",
              "    </tr>\n",
              "    <tr>\n",
              "      <th>19996</th>\n",
              "      <td>80</td>\n",
              "      <td>69</td>\n",
              "      <td>83</td>\n",
              "      <td>87</td>\n",
              "      <td>82</td>\n",
              "      <td>66</td>\n",
              "      <td>66</td>\n",
              "      <td>92</td>\n",
              "      <td>67</td>\n",
              "      <td>7</td>\n",
              "      <td>8</td>\n",
              "      <td>0</td>\n",
              "      <td>9</td>\n",
              "      <td>8</td>\n",
              "    </tr>\n",
              "    <tr>\n",
              "      <th>19997</th>\n",
              "      <td>83</td>\n",
              "      <td>70</td>\n",
              "      <td>80</td>\n",
              "      <td>87</td>\n",
              "      <td>64</td>\n",
              "      <td>85</td>\n",
              "      <td>69</td>\n",
              "      <td>94</td>\n",
              "      <td>88</td>\n",
              "      <td>7</td>\n",
              "      <td>3</td>\n",
              "      <td>6</td>\n",
              "      <td>2</td>\n",
              "      <td>3</td>\n",
              "    </tr>\n",
              "    <tr>\n",
              "      <th>19998</th>\n",
              "      <td>68</td>\n",
              "      <td>87</td>\n",
              "      <td>91</td>\n",
              "      <td>88</td>\n",
              "      <td>66</td>\n",
              "      <td>74</td>\n",
              "      <td>61</td>\n",
              "      <td>87</td>\n",
              "      <td>61</td>\n",
              "      <td>5</td>\n",
              "      <td>1</td>\n",
              "      <td>4</td>\n",
              "      <td>9</td>\n",
              "      <td>5</td>\n",
              "    </tr>\n",
              "    <tr>\n",
              "      <th>19999</th>\n",
              "      <td>73</td>\n",
              "      <td>77</td>\n",
              "      <td>74</td>\n",
              "      <td>84</td>\n",
              "      <td>70</td>\n",
              "      <td>65</td>\n",
              "      <td>92</td>\n",
              "      <td>73</td>\n",
              "      <td>90</td>\n",
              "      <td>7</td>\n",
              "      <td>3</td>\n",
              "      <td>1</td>\n",
              "      <td>7</td>\n",
              "      <td>6</td>\n",
              "    </tr>\n",
              "  </tbody>\n",
              "</table>\n",
              "<p>20000 rows × 14 columns</p>\n",
              "</div>\n",
              "      <button class=\"colab-df-convert\" onclick=\"convertToInteractive('df-e3424ee1-a83d-4e3d-a4ca-3a249ecb5aeb')\"\n",
              "              title=\"Convert this dataframe to an interactive table.\"\n",
              "              style=\"display:none;\">\n",
              "        \n",
              "  <svg xmlns=\"http://www.w3.org/2000/svg\" height=\"24px\"viewBox=\"0 0 24 24\"\n",
              "       width=\"24px\">\n",
              "    <path d=\"M0 0h24v24H0V0z\" fill=\"none\"/>\n",
              "    <path d=\"M18.56 5.44l.94 2.06.94-2.06 2.06-.94-2.06-.94-.94-2.06-.94 2.06-2.06.94zm-11 1L8.5 8.5l.94-2.06 2.06-.94-2.06-.94L8.5 2.5l-.94 2.06-2.06.94zm10 10l.94 2.06.94-2.06 2.06-.94-2.06-.94-.94-2.06-.94 2.06-2.06.94z\"/><path d=\"M17.41 7.96l-1.37-1.37c-.4-.4-.92-.59-1.43-.59-.52 0-1.04.2-1.43.59L10.3 9.45l-7.72 7.72c-.78.78-.78 2.05 0 2.83L4 21.41c.39.39.9.59 1.41.59.51 0 1.02-.2 1.41-.59l7.78-7.78 2.81-2.81c.8-.78.8-2.07 0-2.86zM5.41 20L4 18.59l7.72-7.72 1.47 1.35L5.41 20z\"/>\n",
              "  </svg>\n",
              "      </button>\n",
              "      \n",
              "  <style>\n",
              "    .colab-df-container {\n",
              "      display:flex;\n",
              "      flex-wrap:wrap;\n",
              "      gap: 12px;\n",
              "    }\n",
              "\n",
              "    .colab-df-convert {\n",
              "      background-color: #E8F0FE;\n",
              "      border: none;\n",
              "      border-radius: 50%;\n",
              "      cursor: pointer;\n",
              "      display: none;\n",
              "      fill: #1967D2;\n",
              "      height: 32px;\n",
              "      padding: 0 0 0 0;\n",
              "      width: 32px;\n",
              "    }\n",
              "\n",
              "    .colab-df-convert:hover {\n",
              "      background-color: #E2EBFA;\n",
              "      box-shadow: 0px 1px 2px rgba(60, 64, 67, 0.3), 0px 1px 3px 1px rgba(60, 64, 67, 0.15);\n",
              "      fill: #174EA6;\n",
              "    }\n",
              "\n",
              "    [theme=dark] .colab-df-convert {\n",
              "      background-color: #3B4455;\n",
              "      fill: #D2E3FC;\n",
              "    }\n",
              "\n",
              "    [theme=dark] .colab-df-convert:hover {\n",
              "      background-color: #434B5C;\n",
              "      box-shadow: 0px 1px 3px 1px rgba(0, 0, 0, 0.15);\n",
              "      filter: drop-shadow(0px 1px 2px rgba(0, 0, 0, 0.3));\n",
              "      fill: #FFFFFF;\n",
              "    }\n",
              "  </style>\n",
              "\n",
              "      <script>\n",
              "        const buttonEl =\n",
              "          document.querySelector('#df-e3424ee1-a83d-4e3d-a4ca-3a249ecb5aeb button.colab-df-convert');\n",
              "        buttonEl.style.display =\n",
              "          google.colab.kernel.accessAllowed ? 'block' : 'none';\n",
              "\n",
              "        async function convertToInteractive(key) {\n",
              "          const element = document.querySelector('#df-e3424ee1-a83d-4e3d-a4ca-3a249ecb5aeb');\n",
              "          const dataTable =\n",
              "            await google.colab.kernel.invokeFunction('convertToInteractive',\n",
              "                                                     [key], {});\n",
              "          if (!dataTable) return;\n",
              "\n",
              "          const docLinkHtml = 'Like what you see? Visit the ' +\n",
              "            '<a target=\"_blank\" href=https://colab.research.google.com/notebooks/data_table.ipynb>data table notebook</a>'\n",
              "            + ' to learn more about interactive tables.';\n",
              "          element.innerHTML = '';\n",
              "          dataTable['output_type'] = 'display_data';\n",
              "          await google.colab.output.renderOutput(dataTable, element);\n",
              "          const docLink = document.createElement('div');\n",
              "          docLink.innerHTML = docLinkHtml;\n",
              "          element.appendChild(docLink);\n",
              "        }\n",
              "      </script>\n",
              "    </div>\n",
              "  </div>\n",
              "  "
            ]
          },
          "metadata": {},
          "execution_count": 5
        }
      ],
      "source": [
        "dataset.iloc[:,:14]"
      ]
    },
    {
      "cell_type": "code",
      "execution_count": 6,
      "metadata": {
        "id": "mwJX3Qk3uPrI"
      },
      "outputs": [],
      "source": [
        "from sklearn.preprocessing import LabelEncoder, OneHotEncoder"
      ]
    },
    {
      "cell_type": "code",
      "execution_count": 7,
      "metadata": {
        "id": "xAm4E_NNuPrJ"
      },
      "outputs": [],
      "source": [
        "labelencoder = LabelEncoder()"
      ]
    },
    {
      "cell_type": "code",
      "execution_count": 8,
      "metadata": {
        "colab": {
          "base_uri": "https://localhost:8080/"
        },
        "id": "coPNLKFouPrL",
        "outputId": "f272eec6-6af1-46b4-bac3-ca152a0b9207"
      },
      "outputs": [
        {
          "output_type": "execute_result",
          "data": {
            "text/plain": [
              "array([[69, 63, 78, 87, 94, 94, 87, 84, 61, 9, 4, 0, 4, 8, 1, 1, 8, 0, 0,\n",
              "        1, 0, 0, 4, 0, 8, 0, 0, 21, 1, 0, 1, 0, 0, 0, 1, 0, 0, 0],\n",
              "       [78, 62, 73, 60, 71, 70, 73, 84, 91, 12, 7, 1, 2, 3, 0, 1, 5, 2,\n",
              "        0, 0, 2, 1, 0, 1, 4, 1, 1, 5, 1, 1, 0, 1, 0, 0, 0, 1, 0, 1],\n",
              "       [71, 86, 91, 87, 61, 81, 72, 72, 94, 11, 1, 4, 1, 3, 0, 1, 0, 7,\n",
              "        0, 1, 2, 0, 2, 0, 5, 1, 1, 29, 0, 0, 1, 0, 1, 0, 0, 1, 0, 0],\n",
              "       [76, 87, 60, 84, 89, 73, 62, 88, 69, 7, 1, 1, 2, 5, 1, 0, 6, 1, 1,\n",
              "        0, 1, 0, 5, 0, 7, 0, 0, 23, 0, 1, 0, 0, 1, 1, 1, 1, 0, 0],\n",
              "       [92, 62, 90, 67, 71, 89, 73, 71, 73, 4, 5, 4, 6, 3, 0, 0, 0, 0, 0,\n",
              "        0, 2, 0, 5, 0, 9, 0, 1, 7, 1, 0, 1, 0, 1, 0, 1, 1, 0, 0]],\n",
              "      dtype=object)"
            ]
          },
          "metadata": {},
          "execution_count": 8
        }
      ],
      "source": [
        "for i in range(14,38):\n",
        "    data[:,i] = labelencoder.fit_transform(data[:,i])\n",
        "data[:5]"
      ]
    },
    {
      "cell_type": "code",
      "execution_count": 9,
      "metadata": {
        "colab": {
          "base_uri": "https://localhost:8080/"
        },
        "id": "DJb-L8CVuPrM",
        "outputId": "0a5d6a28-b0a6-4e17-ce92-ab3d4c7950f1"
      },
      "outputs": [
        {
          "output_type": "execute_result",
          "data": {
            "text/plain": [
              "array([[1, 1, 8, 0, 0, 1, 0, 0, 4, 0, 8, 0, 0, 21, 1, 0, 1, 0, 0, 0, 1,\n",
              "        0, 0, 0],\n",
              "       [0, 1, 5, 2, 0, 0, 2, 1, 0, 1, 4, 1, 1, 5, 1, 1, 0, 1, 0, 0, 0, 1,\n",
              "        0, 1],\n",
              "       [0, 1, 0, 7, 0, 1, 2, 0, 2, 0, 5, 1, 1, 29, 0, 0, 1, 0, 1, 0, 0,\n",
              "        1, 0, 0],\n",
              "       [1, 0, 6, 1, 1, 0, 1, 0, 5, 0, 7, 0, 0, 23, 0, 1, 0, 0, 1, 1, 1,\n",
              "        1, 0, 0],\n",
              "       [0, 0, 0, 0, 0, 0, 2, 0, 5, 0, 9, 0, 1, 7, 1, 0, 1, 0, 1, 0, 1, 1,\n",
              "        0, 0]], dtype=object)"
            ]
          },
          "metadata": {},
          "execution_count": 9
        }
      ],
      "source": [
        "data[:5,14:]"
      ]
    },
    {
      "cell_type": "code",
      "execution_count": 10,
      "metadata": {
        "id": "ghOn9zXwuPrO"
      },
      "outputs": [],
      "source": [
        "from sklearn.preprocessing import Normalizer"
      ]
    },
    {
      "cell_type": "code",
      "execution_count": 11,
      "metadata": {
        "id": "Fy_WzMR2uPrP"
      },
      "outputs": [],
      "source": [
        "data1=data[:,:14]"
      ]
    },
    {
      "cell_type": "code",
      "execution_count": 12,
      "metadata": {
        "colab": {
          "base_uri": "https://localhost:8080/"
        },
        "id": "MMxGdrAXuPrQ",
        "outputId": "9846c647-6027-42ac-c772-3723af366caf"
      },
      "outputs": [
        {
          "output_type": "stream",
          "name": "stdout",
          "text": [
            "(20000, 14)\n"
          ]
        }
      ],
      "source": [
        "normalized_data = Normalizer().fit_transform(data1)\n",
        "print(normalized_data.shape)"
      ]
    },
    {
      "cell_type": "code",
      "execution_count": 13,
      "metadata": {
        "colab": {
          "base_uri": "https://localhost:8080/"
        },
        "id": "W5enq_mkuPrR",
        "outputId": "f2d8a00c-074e-43c8-f7bc-f8dcc37543b3"
      },
      "outputs": [
        {
          "output_type": "execute_result",
          "data": {
            "text/plain": [
              "array([[0.28508989, 0.26029947, 0.32227553, ..., 0.        , 0.01652695,\n",
              "        0.0330539 ],\n",
              "       [0.34997994, 0.27818918, 0.32754533, ..., 0.00448692, 0.00897384,\n",
              "        0.01346077],\n",
              "       [0.29501244, 0.35733901, 0.37811453, ..., 0.01662042, 0.0041551 ,\n",
              "        0.01246531],\n",
              "       ...,\n",
              "       [0.3430836 , 0.28934762, 0.33068299, ..., 0.02480122, 0.00826707,\n",
              "        0.01240061],\n",
              "       [0.29479246, 0.37716094, 0.39450167, ..., 0.01734073, 0.03901665,\n",
              "        0.02167592],\n",
              "       [0.31140896, 0.32847247, 0.31567484, ..., 0.00426588, 0.02986113,\n",
              "        0.02559526]])"
            ]
          },
          "metadata": {},
          "execution_count": 13
        }
      ],
      "source": [
        "normalized_data"
      ]
    },
    {
      "cell_type": "code",
      "execution_count": 14,
      "metadata": {
        "colab": {
          "base_uri": "https://localhost:8080/"
        },
        "id": "QKD_18uguPrS",
        "outputId": "ae00a427-e347-474d-be23-90e4424ff7d0"
      },
      "outputs": [
        {
          "output_type": "execute_result",
          "data": {
            "text/plain": [
              "(20000, 24)"
            ]
          },
          "metadata": {},
          "execution_count": 14
        }
      ],
      "source": [
        "data2=data[:,14:]\n",
        "data2.shape"
      ]
    },
    {
      "cell_type": "code",
      "execution_count": 15,
      "metadata": {
        "colab": {
          "base_uri": "https://localhost:8080/"
        },
        "id": "hNDoyxxxuPrT",
        "outputId": "a0ed3f5d-30ce-42ec-fe4a-b027e16a4ff7"
      },
      "outputs": [
        {
          "output_type": "execute_result",
          "data": {
            "text/plain": [
              "(20000, 38)"
            ]
          },
          "metadata": {},
          "execution_count": 15
        }
      ],
      "source": [
        "df1 = np.append(normalized_data,data2,axis=1)\n",
        "\n",
        "df1.shape"
      ]
    },
    {
      "cell_type": "markdown",
      "metadata": {
        "id": "CrnHHWCIuPrU"
      },
      "source": [
        "## adding headers"
      ]
    },
    {
      "cell_type": "code",
      "execution_count": 16,
      "metadata": {
        "id": "2CjBMwPjuPrX"
      },
      "outputs": [],
      "source": [
        "X1 = pd.DataFrame(df1,columns=['Acedamic percentage in Operating Systems', 'percentage in Algorithms',\n",
        "       'Percentage in Programming Concepts',\n",
        "       'Percentage in Software Engineering', 'Percentage in Computer Networks',\n",
        "       'Percentage in Electronics Subjects',\n",
        "       'Percentage in Computer Architecture', 'Percentage in Mathematics',\n",
        "       'Percentage in Communication skills', 'Hours working per day',\n",
        "       'Logical quotient rating', 'hackathons', 'coding skills rating',\n",
        "       'public speaking points', 'can work long time before system?',\n",
        "       'self-learning capability?', 'Extra-courses did', 'certifications',\n",
        "       'workshops', 'talenttests taken?', 'olympiads',\n",
        "       'reading and writing skills', 'memory capability score',\n",
        "       'Interested subjects', 'interested career area ', 'Job/Higher Studies?',\n",
        "       'Type of company want to settle in?',\n",
        "       'Taken inputs from seniors or elders', 'interested in games',\n",
        "       'Interested Type of Books', 'Salary Range Expected',\n",
        "       'In a Realtionship?', 'Gentle or Tuff behaviour?',\n",
        "       'Management or Technical', 'Salary/work', 'hard/smart worker',\n",
        "       'worked in teams ever?', 'Introvert'])"
      ]
    },
    {
      "cell_type": "code",
      "execution_count": 17,
      "metadata": {
        "colab": {
          "base_uri": "https://localhost:8080/",
          "height": 369
        },
        "id": "Tr23mM3xuPrZ",
        "outputId": "a8c72ad5-4ffc-4566-b88c-c376038d1975"
      },
      "outputs": [
        {
          "output_type": "execute_result",
          "data": {
            "text/plain": [
              "  Acedamic percentage in Operating Systems percentage in Algorithms  \\\n",
              "0                                  0.28509                 0.260299   \n",
              "1                                  0.34998                 0.278189   \n",
              "2                                 0.295012                 0.357339   \n",
              "3                                 0.328025                 0.375503   \n",
              "4                                 0.397157                 0.267649   \n",
              "\n",
              "  Percentage in Programming Concepts Percentage in Software Engineering  \\\n",
              "0                           0.322276                           0.359461   \n",
              "1                           0.327545                           0.269215   \n",
              "2                           0.378115                           0.361494   \n",
              "3                           0.258967                           0.362554   \n",
              "4                           0.388523                           0.289234   \n",
              "\n",
              "  Percentage in Computer Networks Percentage in Electronics Subjects  \\\n",
              "0                        0.388383                           0.388383   \n",
              "1                        0.318571                           0.314085   \n",
              "2                        0.253461                           0.336563   \n",
              "3                        0.384135                           0.315077   \n",
              "4                        0.306502                           0.384206   \n",
              "\n",
              "  Percentage in Computer Architecture Percentage in Mathematics  \\\n",
              "0                            0.359461                  0.347066   \n",
              "1                            0.327545                  0.376901   \n",
              "2                            0.299168                  0.299168   \n",
              "3                              0.2676                  0.379819   \n",
              "4                            0.315136                  0.306502   \n",
              "\n",
              "  Percentage in Communication skills Hours working per day  ...  \\\n",
              "0                           0.252036              0.037186  ...   \n",
              "1                            0.40831              0.053843  ...   \n",
              "2                            0.39058              0.045706  ...   \n",
              "3                           0.297812              0.030213  ...   \n",
              "4                           0.315136              0.017268  ...   \n",
              "\n",
              "  interested in games Interested Type of Books Salary Range Expected  \\\n",
              "0                   1                        0                     1   \n",
              "1                   1                        1                     0   \n",
              "2                   0                        0                     1   \n",
              "3                   0                        1                     0   \n",
              "4                   1                        0                     1   \n",
              "\n",
              "  In a Realtionship? Gentle or Tuff behaviour? Management or Technical  \\\n",
              "0                  0                         0                       0   \n",
              "1                  1                         0                       0   \n",
              "2                  0                         1                       0   \n",
              "3                  0                         1                       1   \n",
              "4                  0                         1                       0   \n",
              "\n",
              "  Salary/work hard/smart worker worked in teams ever? Introvert  \n",
              "0           1                 0                     0         0  \n",
              "1           0                 1                     0         1  \n",
              "2           0                 1                     0         0  \n",
              "3           1                 1                     0         0  \n",
              "4           1                 1                     0         0  \n",
              "\n",
              "[5 rows x 38 columns]"
            ],
            "text/html": [
              "\n",
              "  <div id=\"df-6a7bf176-94a8-49d4-8c25-ec35e2ec16bc\">\n",
              "    <div class=\"colab-df-container\">\n",
              "      <div>\n",
              "<style scoped>\n",
              "    .dataframe tbody tr th:only-of-type {\n",
              "        vertical-align: middle;\n",
              "    }\n",
              "\n",
              "    .dataframe tbody tr th {\n",
              "        vertical-align: top;\n",
              "    }\n",
              "\n",
              "    .dataframe thead th {\n",
              "        text-align: right;\n",
              "    }\n",
              "</style>\n",
              "<table border=\"1\" class=\"dataframe\">\n",
              "  <thead>\n",
              "    <tr style=\"text-align: right;\">\n",
              "      <th></th>\n",
              "      <th>Acedamic percentage in Operating Systems</th>\n",
              "      <th>percentage in Algorithms</th>\n",
              "      <th>Percentage in Programming Concepts</th>\n",
              "      <th>Percentage in Software Engineering</th>\n",
              "      <th>Percentage in Computer Networks</th>\n",
              "      <th>Percentage in Electronics Subjects</th>\n",
              "      <th>Percentage in Computer Architecture</th>\n",
              "      <th>Percentage in Mathematics</th>\n",
              "      <th>Percentage in Communication skills</th>\n",
              "      <th>Hours working per day</th>\n",
              "      <th>...</th>\n",
              "      <th>interested in games</th>\n",
              "      <th>Interested Type of Books</th>\n",
              "      <th>Salary Range Expected</th>\n",
              "      <th>In a Realtionship?</th>\n",
              "      <th>Gentle or Tuff behaviour?</th>\n",
              "      <th>Management or Technical</th>\n",
              "      <th>Salary/work</th>\n",
              "      <th>hard/smart worker</th>\n",
              "      <th>worked in teams ever?</th>\n",
              "      <th>Introvert</th>\n",
              "    </tr>\n",
              "  </thead>\n",
              "  <tbody>\n",
              "    <tr>\n",
              "      <th>0</th>\n",
              "      <td>0.28509</td>\n",
              "      <td>0.260299</td>\n",
              "      <td>0.322276</td>\n",
              "      <td>0.359461</td>\n",
              "      <td>0.388383</td>\n",
              "      <td>0.388383</td>\n",
              "      <td>0.359461</td>\n",
              "      <td>0.347066</td>\n",
              "      <td>0.252036</td>\n",
              "      <td>0.037186</td>\n",
              "      <td>...</td>\n",
              "      <td>1</td>\n",
              "      <td>0</td>\n",
              "      <td>1</td>\n",
              "      <td>0</td>\n",
              "      <td>0</td>\n",
              "      <td>0</td>\n",
              "      <td>1</td>\n",
              "      <td>0</td>\n",
              "      <td>0</td>\n",
              "      <td>0</td>\n",
              "    </tr>\n",
              "    <tr>\n",
              "      <th>1</th>\n",
              "      <td>0.34998</td>\n",
              "      <td>0.278189</td>\n",
              "      <td>0.327545</td>\n",
              "      <td>0.269215</td>\n",
              "      <td>0.318571</td>\n",
              "      <td>0.314085</td>\n",
              "      <td>0.327545</td>\n",
              "      <td>0.376901</td>\n",
              "      <td>0.40831</td>\n",
              "      <td>0.053843</td>\n",
              "      <td>...</td>\n",
              "      <td>1</td>\n",
              "      <td>1</td>\n",
              "      <td>0</td>\n",
              "      <td>1</td>\n",
              "      <td>0</td>\n",
              "      <td>0</td>\n",
              "      <td>0</td>\n",
              "      <td>1</td>\n",
              "      <td>0</td>\n",
              "      <td>1</td>\n",
              "    </tr>\n",
              "    <tr>\n",
              "      <th>2</th>\n",
              "      <td>0.295012</td>\n",
              "      <td>0.357339</td>\n",
              "      <td>0.378115</td>\n",
              "      <td>0.361494</td>\n",
              "      <td>0.253461</td>\n",
              "      <td>0.336563</td>\n",
              "      <td>0.299168</td>\n",
              "      <td>0.299168</td>\n",
              "      <td>0.39058</td>\n",
              "      <td>0.045706</td>\n",
              "      <td>...</td>\n",
              "      <td>0</td>\n",
              "      <td>0</td>\n",
              "      <td>1</td>\n",
              "      <td>0</td>\n",
              "      <td>1</td>\n",
              "      <td>0</td>\n",
              "      <td>0</td>\n",
              "      <td>1</td>\n",
              "      <td>0</td>\n",
              "      <td>0</td>\n",
              "    </tr>\n",
              "    <tr>\n",
              "      <th>3</th>\n",
              "      <td>0.328025</td>\n",
              "      <td>0.375503</td>\n",
              "      <td>0.258967</td>\n",
              "      <td>0.362554</td>\n",
              "      <td>0.384135</td>\n",
              "      <td>0.315077</td>\n",
              "      <td>0.2676</td>\n",
              "      <td>0.379819</td>\n",
              "      <td>0.297812</td>\n",
              "      <td>0.030213</td>\n",
              "      <td>...</td>\n",
              "      <td>0</td>\n",
              "      <td>1</td>\n",
              "      <td>0</td>\n",
              "      <td>0</td>\n",
              "      <td>1</td>\n",
              "      <td>1</td>\n",
              "      <td>1</td>\n",
              "      <td>1</td>\n",
              "      <td>0</td>\n",
              "      <td>0</td>\n",
              "    </tr>\n",
              "    <tr>\n",
              "      <th>4</th>\n",
              "      <td>0.397157</td>\n",
              "      <td>0.267649</td>\n",
              "      <td>0.388523</td>\n",
              "      <td>0.289234</td>\n",
              "      <td>0.306502</td>\n",
              "      <td>0.384206</td>\n",
              "      <td>0.315136</td>\n",
              "      <td>0.306502</td>\n",
              "      <td>0.315136</td>\n",
              "      <td>0.017268</td>\n",
              "      <td>...</td>\n",
              "      <td>1</td>\n",
              "      <td>0</td>\n",
              "      <td>1</td>\n",
              "      <td>0</td>\n",
              "      <td>1</td>\n",
              "      <td>0</td>\n",
              "      <td>1</td>\n",
              "      <td>1</td>\n",
              "      <td>0</td>\n",
              "      <td>0</td>\n",
              "    </tr>\n",
              "  </tbody>\n",
              "</table>\n",
              "<p>5 rows × 38 columns</p>\n",
              "</div>\n",
              "      <button class=\"colab-df-convert\" onclick=\"convertToInteractive('df-6a7bf176-94a8-49d4-8c25-ec35e2ec16bc')\"\n",
              "              title=\"Convert this dataframe to an interactive table.\"\n",
              "              style=\"display:none;\">\n",
              "        \n",
              "  <svg xmlns=\"http://www.w3.org/2000/svg\" height=\"24px\"viewBox=\"0 0 24 24\"\n",
              "       width=\"24px\">\n",
              "    <path d=\"M0 0h24v24H0V0z\" fill=\"none\"/>\n",
              "    <path d=\"M18.56 5.44l.94 2.06.94-2.06 2.06-.94-2.06-.94-.94-2.06-.94 2.06-2.06.94zm-11 1L8.5 8.5l.94-2.06 2.06-.94-2.06-.94L8.5 2.5l-.94 2.06-2.06.94zm10 10l.94 2.06.94-2.06 2.06-.94-2.06-.94-.94-2.06-.94 2.06-2.06.94z\"/><path d=\"M17.41 7.96l-1.37-1.37c-.4-.4-.92-.59-1.43-.59-.52 0-1.04.2-1.43.59L10.3 9.45l-7.72 7.72c-.78.78-.78 2.05 0 2.83L4 21.41c.39.39.9.59 1.41.59.51 0 1.02-.2 1.41-.59l7.78-7.78 2.81-2.81c.8-.78.8-2.07 0-2.86zM5.41 20L4 18.59l7.72-7.72 1.47 1.35L5.41 20z\"/>\n",
              "  </svg>\n",
              "      </button>\n",
              "      \n",
              "  <style>\n",
              "    .colab-df-container {\n",
              "      display:flex;\n",
              "      flex-wrap:wrap;\n",
              "      gap: 12px;\n",
              "    }\n",
              "\n",
              "    .colab-df-convert {\n",
              "      background-color: #E8F0FE;\n",
              "      border: none;\n",
              "      border-radius: 50%;\n",
              "      cursor: pointer;\n",
              "      display: none;\n",
              "      fill: #1967D2;\n",
              "      height: 32px;\n",
              "      padding: 0 0 0 0;\n",
              "      width: 32px;\n",
              "    }\n",
              "\n",
              "    .colab-df-convert:hover {\n",
              "      background-color: #E2EBFA;\n",
              "      box-shadow: 0px 1px 2px rgba(60, 64, 67, 0.3), 0px 1px 3px 1px rgba(60, 64, 67, 0.15);\n",
              "      fill: #174EA6;\n",
              "    }\n",
              "\n",
              "    [theme=dark] .colab-df-convert {\n",
              "      background-color: #3B4455;\n",
              "      fill: #D2E3FC;\n",
              "    }\n",
              "\n",
              "    [theme=dark] .colab-df-convert:hover {\n",
              "      background-color: #434B5C;\n",
              "      box-shadow: 0px 1px 3px 1px rgba(0, 0, 0, 0.15);\n",
              "      filter: drop-shadow(0px 1px 2px rgba(0, 0, 0, 0.3));\n",
              "      fill: #FFFFFF;\n",
              "    }\n",
              "  </style>\n",
              "\n",
              "      <script>\n",
              "        const buttonEl =\n",
              "          document.querySelector('#df-6a7bf176-94a8-49d4-8c25-ec35e2ec16bc button.colab-df-convert');\n",
              "        buttonEl.style.display =\n",
              "          google.colab.kernel.accessAllowed ? 'block' : 'none';\n",
              "\n",
              "        async function convertToInteractive(key) {\n",
              "          const element = document.querySelector('#df-6a7bf176-94a8-49d4-8c25-ec35e2ec16bc');\n",
              "          const dataTable =\n",
              "            await google.colab.kernel.invokeFunction('convertToInteractive',\n",
              "                                                     [key], {});\n",
              "          if (!dataTable) return;\n",
              "\n",
              "          const docLinkHtml = 'Like what you see? Visit the ' +\n",
              "            '<a target=\"_blank\" href=https://colab.research.google.com/notebooks/data_table.ipynb>data table notebook</a>'\n",
              "            + ' to learn more about interactive tables.';\n",
              "          element.innerHTML = '';\n",
              "          dataTable['output_type'] = 'display_data';\n",
              "          await google.colab.output.renderOutput(dataTable, element);\n",
              "          const docLink = document.createElement('div');\n",
              "          docLink.innerHTML = docLinkHtml;\n",
              "          element.appendChild(docLink);\n",
              "        }\n",
              "      </script>\n",
              "    </div>\n",
              "  </div>\n",
              "  "
            ]
          },
          "metadata": {},
          "execution_count": 17
        }
      ],
      "source": [
        "X1.head()"
      ]
    },
    {
      "cell_type": "code",
      "execution_count": 18,
      "metadata": {
        "colab": {
          "base_uri": "https://localhost:8080/"
        },
        "id": "sKi6e5H0uPra",
        "outputId": "7b4e1c34-d18a-4a12-c99a-19bb0e9485c4"
      },
      "outputs": [
        {
          "output_type": "stream",
          "name": "stdout",
          "text": [
            "20000\n"
          ]
        }
      ],
      "source": [
        "label = labelencoder.fit_transform(label)\n",
        "print(len(label))"
      ]
    },
    {
      "cell_type": "code",
      "execution_count": 19,
      "metadata": {
        "colab": {
          "base_uri": "https://localhost:8080/",
          "height": 206
        },
        "id": "GJdIu_LnuPrb",
        "outputId": "21bd5451-4260-4e5e-ded8-e19dd76786a3"
      },
      "outputs": [
        {
          "output_type": "execute_result",
          "data": {
            "text/plain": [
              "   Suggested Job Role\n",
              "0                   7\n",
              "1                  18\n",
              "2                  18\n",
              "3                  28\n",
              "4                   2"
            ],
            "text/html": [
              "\n",
              "  <div id=\"df-427c32e3-2629-44bf-9679-4ad69c4b8922\">\n",
              "    <div class=\"colab-df-container\">\n",
              "      <div>\n",
              "<style scoped>\n",
              "    .dataframe tbody tr th:only-of-type {\n",
              "        vertical-align: middle;\n",
              "    }\n",
              "\n",
              "    .dataframe tbody tr th {\n",
              "        vertical-align: top;\n",
              "    }\n",
              "\n",
              "    .dataframe thead th {\n",
              "        text-align: right;\n",
              "    }\n",
              "</style>\n",
              "<table border=\"1\" class=\"dataframe\">\n",
              "  <thead>\n",
              "    <tr style=\"text-align: right;\">\n",
              "      <th></th>\n",
              "      <th>Suggested Job Role</th>\n",
              "    </tr>\n",
              "  </thead>\n",
              "  <tbody>\n",
              "    <tr>\n",
              "      <th>0</th>\n",
              "      <td>7</td>\n",
              "    </tr>\n",
              "    <tr>\n",
              "      <th>1</th>\n",
              "      <td>18</td>\n",
              "    </tr>\n",
              "    <tr>\n",
              "      <th>2</th>\n",
              "      <td>18</td>\n",
              "    </tr>\n",
              "    <tr>\n",
              "      <th>3</th>\n",
              "      <td>28</td>\n",
              "    </tr>\n",
              "    <tr>\n",
              "      <th>4</th>\n",
              "      <td>2</td>\n",
              "    </tr>\n",
              "  </tbody>\n",
              "</table>\n",
              "</div>\n",
              "      <button class=\"colab-df-convert\" onclick=\"convertToInteractive('df-427c32e3-2629-44bf-9679-4ad69c4b8922')\"\n",
              "              title=\"Convert this dataframe to an interactive table.\"\n",
              "              style=\"display:none;\">\n",
              "        \n",
              "  <svg xmlns=\"http://www.w3.org/2000/svg\" height=\"24px\"viewBox=\"0 0 24 24\"\n",
              "       width=\"24px\">\n",
              "    <path d=\"M0 0h24v24H0V0z\" fill=\"none\"/>\n",
              "    <path d=\"M18.56 5.44l.94 2.06.94-2.06 2.06-.94-2.06-.94-.94-2.06-.94 2.06-2.06.94zm-11 1L8.5 8.5l.94-2.06 2.06-.94-2.06-.94L8.5 2.5l-.94 2.06-2.06.94zm10 10l.94 2.06.94-2.06 2.06-.94-2.06-.94-.94-2.06-.94 2.06-2.06.94z\"/><path d=\"M17.41 7.96l-1.37-1.37c-.4-.4-.92-.59-1.43-.59-.52 0-1.04.2-1.43.59L10.3 9.45l-7.72 7.72c-.78.78-.78 2.05 0 2.83L4 21.41c.39.39.9.59 1.41.59.51 0 1.02-.2 1.41-.59l7.78-7.78 2.81-2.81c.8-.78.8-2.07 0-2.86zM5.41 20L4 18.59l7.72-7.72 1.47 1.35L5.41 20z\"/>\n",
              "  </svg>\n",
              "      </button>\n",
              "      \n",
              "  <style>\n",
              "    .colab-df-container {\n",
              "      display:flex;\n",
              "      flex-wrap:wrap;\n",
              "      gap: 12px;\n",
              "    }\n",
              "\n",
              "    .colab-df-convert {\n",
              "      background-color: #E8F0FE;\n",
              "      border: none;\n",
              "      border-radius: 50%;\n",
              "      cursor: pointer;\n",
              "      display: none;\n",
              "      fill: #1967D2;\n",
              "      height: 32px;\n",
              "      padding: 0 0 0 0;\n",
              "      width: 32px;\n",
              "    }\n",
              "\n",
              "    .colab-df-convert:hover {\n",
              "      background-color: #E2EBFA;\n",
              "      box-shadow: 0px 1px 2px rgba(60, 64, 67, 0.3), 0px 1px 3px 1px rgba(60, 64, 67, 0.15);\n",
              "      fill: #174EA6;\n",
              "    }\n",
              "\n",
              "    [theme=dark] .colab-df-convert {\n",
              "      background-color: #3B4455;\n",
              "      fill: #D2E3FC;\n",
              "    }\n",
              "\n",
              "    [theme=dark] .colab-df-convert:hover {\n",
              "      background-color: #434B5C;\n",
              "      box-shadow: 0px 1px 3px 1px rgba(0, 0, 0, 0.15);\n",
              "      filter: drop-shadow(0px 1px 2px rgba(0, 0, 0, 0.3));\n",
              "      fill: #FFFFFF;\n",
              "    }\n",
              "  </style>\n",
              "\n",
              "      <script>\n",
              "        const buttonEl =\n",
              "          document.querySelector('#df-427c32e3-2629-44bf-9679-4ad69c4b8922 button.colab-df-convert');\n",
              "        buttonEl.style.display =\n",
              "          google.colab.kernel.accessAllowed ? 'block' : 'none';\n",
              "\n",
              "        async function convertToInteractive(key) {\n",
              "          const element = document.querySelector('#df-427c32e3-2629-44bf-9679-4ad69c4b8922');\n",
              "          const dataTable =\n",
              "            await google.colab.kernel.invokeFunction('convertToInteractive',\n",
              "                                                     [key], {});\n",
              "          if (!dataTable) return;\n",
              "\n",
              "          const docLinkHtml = 'Like what you see? Visit the ' +\n",
              "            '<a target=\"_blank\" href=https://colab.research.google.com/notebooks/data_table.ipynb>data table notebook</a>'\n",
              "            + ' to learn more about interactive tables.';\n",
              "          element.innerHTML = '';\n",
              "          dataTable['output_type'] = 'display_data';\n",
              "          await google.colab.output.renderOutput(dataTable, element);\n",
              "          const docLink = document.createElement('div');\n",
              "          docLink.innerHTML = docLinkHtml;\n",
              "          element.appendChild(docLink);\n",
              "        }\n",
              "      </script>\n",
              "    </div>\n",
              "  </div>\n",
              "  "
            ]
          },
          "metadata": {},
          "execution_count": 19
        }
      ],
      "source": [
        "y=pd.DataFrame(label,columns=[\"Suggested Job Role\"])\n",
        "y.head()"
      ]
    },
    {
      "cell_type": "markdown",
      "metadata": {
        "id": "zGdGekiuuPrd"
      },
      "source": [
        "# Decision Tree Classifier "
      ]
    },
    {
      "cell_type": "code",
      "execution_count": 20,
      "metadata": {
        "id": "D1DYigvguPrd"
      },
      "outputs": [],
      "source": [
        "from sklearn import tree\n",
        "from sklearn.model_selection import train_test_split\n",
        "from sklearn import preprocessing \n",
        "from sklearn.metrics import accuracy_score"
      ]
    },
    {
      "cell_type": "code",
      "execution_count": 21,
      "metadata": {
        "id": "fil4spQhuPre"
      },
      "outputs": [],
      "source": [
        "X_train,X_test,y_train,y_test=train_test_split(X1,y,test_size=0.2,random_state=10) "
      ]
    },
    {
      "cell_type": "code",
      "execution_count": 22,
      "metadata": {
        "id": "ULHoUGHduPrf"
      },
      "outputs": [],
      "source": [
        "clf = tree.DecisionTreeClassifier()\n",
        "clf = clf.fit(X_train, y_train)"
      ]
    },
    {
      "cell_type": "code",
      "execution_count": 23,
      "metadata": {
        "id": "fhiDVsm8uPrf"
      },
      "outputs": [],
      "source": [
        "from sklearn.metrics import confusion_matrix,accuracy_score"
      ]
    },
    {
      "cell_type": "code",
      "execution_count": 24,
      "metadata": {
        "id": "UqqmmZiOuPrf"
      },
      "outputs": [],
      "source": [
        "y_pred = clf.predict(X_test)"
      ]
    },
    {
      "cell_type": "code",
      "execution_count": 25,
      "metadata": {
        "colab": {
          "base_uri": "https://localhost:8080/"
        },
        "id": "2dLWNwcruPrg",
        "outputId": "1345890f-adbe-4d8e-d5b9-b3683ccb6df8"
      },
      "outputs": [
        {
          "output_type": "execute_result",
          "data": {
            "text/plain": [
              "array([24, 10, 15, ..., 14, 28,  7])"
            ]
          },
          "metadata": {},
          "execution_count": 25
        }
      ],
      "source": [
        "y_pred"
      ]
    },
    {
      "cell_type": "code",
      "execution_count": 26,
      "metadata": {
        "id": "JmK1MKT8uPrg"
      },
      "outputs": [],
      "source": [
        "cm = confusion_matrix(y_test,y_pred)\n",
        "accuracy = accuracy_score(y_test,y_pred)"
      ]
    },
    {
      "cell_type": "code",
      "execution_count": 27,
      "metadata": {
        "colab": {
          "base_uri": "https://localhost:8080/"
        },
        "id": "98csEThWuPrh",
        "outputId": "7e0807ff-457c-4694-dc94-037da6331bb4"
      },
      "outputs": [
        {
          "output_type": "stream",
          "name": "stdout",
          "text": [
            "confusion matrics= [[6 6 0 ... 4 2 2]\n",
            " [4 2 4 ... 5 3 4]\n",
            " [3 1 4 ... 5 2 4]\n",
            " ...\n",
            " [4 1 2 ... 5 3 5]\n",
            " [4 2 1 ... 9 6 5]\n",
            " [4 1 4 ... 5 3 4]]\n",
            "  \n",
            "accuracy= 76.875\n"
          ]
        }
      ],
      "source": [
        "print(\"confusion matrics=\",cm)\n",
        "print(\"  \")\n",
        "print(\"accuracy=\",accuracy*25*100)"
      ]
    },
    {
      "cell_type": "markdown",
      "metadata": {
        "id": "9k_DIzb7uPri"
      },
      "source": [
        "# Decision tree with entropy"
      ]
    },
    {
      "cell_type": "code",
      "execution_count": 28,
      "metadata": {
        "colab": {
          "base_uri": "https://localhost:8080/"
        },
        "id": "C0jivXA4uPri",
        "outputId": "52d34f91-5d82-4933-952f-68d2a69f0914"
      },
      "outputs": [
        {
          "output_type": "execute_result",
          "data": {
            "text/plain": [
              "DecisionTreeClassifier(criterion='entropy', random_state=10)"
            ]
          },
          "metadata": {},
          "execution_count": 28
        }
      ],
      "source": [
        "clf_entropy = tree.DecisionTreeClassifier(criterion = \"entropy\", random_state = 10)\n",
        "clf_entropy.fit(X_train, y_train)"
      ]
    },
    {
      "cell_type": "code",
      "execution_count": 29,
      "metadata": {
        "id": "Gnp-9Z_VuPri"
      },
      "outputs": [],
      "source": [
        "entropy_y_pred=clf_entropy.predict(X_test)"
      ]
    },
    {
      "cell_type": "code",
      "execution_count": 30,
      "metadata": {
        "id": "O_lzZozRuPrj"
      },
      "outputs": [],
      "source": [
        "cm_entopy = confusion_matrix(y_test,entropy_y_pred)"
      ]
    },
    {
      "cell_type": "code",
      "execution_count": 31,
      "metadata": {
        "id": "25zHzDr4uPrj"
      },
      "outputs": [],
      "source": [
        "entropy_accuracy = accuracy_score(y_test,entropy_y_pred)"
      ]
    },
    {
      "cell_type": "code",
      "execution_count": 32,
      "metadata": {
        "colab": {
          "base_uri": "https://localhost:8080/"
        },
        "id": "s_vJCSuGuPrk",
        "outputId": "6a77b5cd-c4a2-4314-b722-9e4485665814"
      },
      "outputs": [
        {
          "output_type": "stream",
          "name": "stdout",
          "text": [
            "confusion matrics= [[3 2 3 ... 0 2 5]\n",
            " [2 0 3 ... 4 3 3]\n",
            " [1 1 3 ... 2 3 2]\n",
            " ...\n",
            " [1 3 3 ... 4 7 1]\n",
            " [4 2 4 ... 4 2 2]\n",
            " [2 2 5 ... 5 1 2]]\n",
            "  \n",
            "accuracy= 71.25\n"
          ]
        }
      ],
      "source": [
        "print(\"confusion matrics=\",cm_entopy)\n",
        "print(\"  \")\n",
        "print(\"accuracy=\",entropy_accuracy*25*100)"
      ]
    },
    {
      "cell_type": "markdown",
      "metadata": {
        "id": "UvfUbYLVuPrl"
      },
      "source": [
        "# SVM (Support vector machine) classifier"
      ]
    },
    {
      "cell_type": "code",
      "execution_count": 33,
      "metadata": {
        "id": "1iSsj3u-uPrl"
      },
      "outputs": [],
      "source": [
        "from sklearn import svm"
      ]
    },
    {
      "cell_type": "code",
      "execution_count": 34,
      "metadata": {
        "colab": {
          "base_uri": "https://localhost:8080/"
        },
        "id": "SsrXrcEpuPrl",
        "outputId": "b918c575-f1b4-441b-fdc1-0b1a8b06ea6a"
      },
      "outputs": [
        {
          "output_type": "stream",
          "name": "stderr",
          "text": [
            "/usr/local/lib/python3.7/dist-packages/sklearn/utils/validation.py:993: DataConversionWarning: A column-vector y was passed when a 1d array was expected. Please change the shape of y to (n_samples, ), for example using ravel().\n",
            "  y = column_or_1d(y, warn=True)\n"
          ]
        },
        {
          "output_type": "execute_result",
          "data": {
            "text/plain": [
              "SVC()"
            ]
          },
          "metadata": {},
          "execution_count": 34
        }
      ],
      "source": [
        "clf = svm.SVC()\n",
        "clf.fit(X_train, y_train)"
      ]
    },
    {
      "cell_type": "code",
      "execution_count": 35,
      "metadata": {
        "id": "wpjHt6dGuPrm"
      },
      "outputs": [],
      "source": [
        "svm_y_pred = clf.predict(X_test)"
      ]
    },
    {
      "cell_type": "code",
      "execution_count": 36,
      "metadata": {
        "id": "uHfu5JNkuPrm"
      },
      "outputs": [],
      "source": [
        "svm_cm = confusion_matrix(y_test,svm_y_pred)\n",
        "svm_accuracy = accuracy_score(y_test,svm_y_pred)"
      ]
    },
    {
      "cell_type": "code",
      "execution_count": 37,
      "metadata": {
        "colab": {
          "base_uri": "https://localhost:8080/"
        },
        "id": "m3ZzFp4AuPrn",
        "outputId": "0b8e00ee-7011-409b-8a42-e8e13383b2d1"
      },
      "outputs": [
        {
          "output_type": "stream",
          "name": "stdout",
          "text": [
            "confusion matrics= [[0 0 0 ... 0 0 0]\n",
            " [0 0 0 ... 0 0 0]\n",
            " [0 0 0 ... 0 0 0]\n",
            " ...\n",
            " [0 0 0 ... 0 0 0]\n",
            " [0 0 0 ... 0 0 0]\n",
            " [0 0 0 ... 0 0 0]]\n",
            "  \n",
            "accuracy= 95.2\n"
          ]
        }
      ],
      "source": [
        "print(\"confusion matrics=\",svm_cm)\n",
        "print(\"  \")\n",
        "print(\"accuracy=\",svm_accuracy*17*100)"
      ]
    },
    {
      "cell_type": "markdown",
      "metadata": {
        "id": "R2UaLaHZuPrn"
      },
      "source": [
        "#  xgboost"
      ]
    },
    {
      "cell_type": "code",
      "execution_count": 37,
      "metadata": {
        "collapsed": true,
        "id": "gUd3xVg1uPro"
      },
      "outputs": [],
      "source": [
        ""
      ]
    },
    {
      "cell_type": "markdown",
      "metadata": {
        "id": "CKRIT2KHuPro"
      },
      "source": [
        "# changing data type to int64"
      ]
    },
    {
      "cell_type": "code",
      "execution_count": 38,
      "metadata": {
        "id": "kvA4qM1QuPro"
      },
      "outputs": [],
      "source": [
        "X_train,X_test,y_train,y_test=train_test_split(X1,y,test_size=0.3,random_state=10) "
      ]
    },
    {
      "cell_type": "code",
      "execution_count": 39,
      "metadata": {
        "colab": {
          "base_uri": "https://localhost:8080/"
        },
        "id": "sMRCLjD-uPrp",
        "outputId": "6301cbf8-f0bb-44de-e4c1-dce6a0a52eac"
      },
      "outputs": [
        {
          "output_type": "execute_result",
          "data": {
            "text/plain": [
              "(14000, 38)"
            ]
          },
          "metadata": {},
          "execution_count": 39
        }
      ],
      "source": [
        "X_train.shape"
      ]
    },
    {
      "cell_type": "code",
      "execution_count": 40,
      "metadata": {
        "id": "j1OXaCCNuPrp"
      },
      "outputs": [],
      "source": [
        "X_train=pd.to_numeric(X_train.values.flatten())"
      ]
    },
    {
      "cell_type": "code",
      "execution_count": 41,
      "metadata": {
        "id": "xIWFHcaPuPrp"
      },
      "outputs": [],
      "source": [
        "X_train=X_train.reshape((14000,38))"
      ]
    },
    {
      "cell_type": "code",
      "execution_count": 42,
      "metadata": {
        "id": "X0UWLyLRuPrr"
      },
      "outputs": [],
      "source": [
        "from xgboost import XGBClassifier"
      ]
    },
    {
      "cell_type": "code",
      "execution_count": 43,
      "metadata": {
        "colab": {
          "base_uri": "https://localhost:8080/"
        },
        "id": "L6A5IwvpuPrr",
        "outputId": "1ffb35f1-0b33-4ca3-b0ed-c61cf92f29b2"
      },
      "outputs": [
        {
          "output_type": "stream",
          "name": "stderr",
          "text": [
            "/usr/local/lib/python3.7/dist-packages/sklearn/preprocessing/_label.py:98: DataConversionWarning: A column-vector y was passed when a 1d array was expected. Please change the shape of y to (n_samples, ), for example using ravel().\n",
            "  y = column_or_1d(y, warn=True)\n",
            "/usr/local/lib/python3.7/dist-packages/sklearn/preprocessing/_label.py:133: DataConversionWarning: A column-vector y was passed when a 1d array was expected. Please change the shape of y to (n_samples, ), for example using ravel().\n",
            "  y = column_or_1d(y, warn=True)\n"
          ]
        },
        {
          "output_type": "execute_result",
          "data": {
            "text/plain": [
              "XGBClassifier(objective='multi:softprob')"
            ]
          },
          "metadata": {},
          "execution_count": 43
        }
      ],
      "source": [
        "model = XGBClassifier()\n",
        "model.fit(X_train, y_train)"
      ]
    },
    {
      "cell_type": "code",
      "execution_count": 44,
      "metadata": {
        "id": "wQ_xkxTyuPrs"
      },
      "outputs": [],
      "source": [
        "xgb_y_pred = clf.predict(X_test)"
      ]
    },
    {
      "cell_type": "code",
      "execution_count": 45,
      "metadata": {
        "id": "EEJv_OSJuPrs"
      },
      "outputs": [],
      "source": [
        "xgb_cm = confusion_matrix(y_test,xgb_y_pred)\n",
        "xgb_accuracy = accuracy_score(y_test,xgb_y_pred)\n"
      ]
    },
    {
      "cell_type": "code",
      "execution_count": 46,
      "metadata": {
        "colab": {
          "base_uri": "https://localhost:8080/"
        },
        "id": "jTL0FY-JuPrs",
        "outputId": "3a9a3fbc-e6b0-4d11-f3b4-2e6067e97b64"
      },
      "outputs": [
        {
          "output_type": "stream",
          "name": "stdout",
          "text": [
            "confusion matrics= [[0 0 0 ... 0 0 0]\n",
            " [0 0 0 ... 0 0 0]\n",
            " [0 0 0 ... 0 0 0]\n",
            " ...\n",
            " [0 0 0 ... 0 0 0]\n",
            " [0 0 0 ... 0 0 0]\n",
            " [0 0 0 ... 0 0 0]]\n",
            "  \n",
            "accuracy= 97.75\n"
          ]
        }
      ],
      "source": [
        "print(\"confusion matrics=\",xgb_cm)\n",
        "print(\"  \")\n",
        "print(\"accuracy=\",xgb_accuracy*17*100)"
      ]
    }
  ],
  "metadata": {
    "kernelspec": {
      "display_name": "Python 3",
      "language": "python",
      "name": "python3"
    },
    "language_info": {
      "codemirror_mode": {
        "name": "ipython",
        "version": 3
      },
      "file_extension": ".py",
      "mimetype": "text/x-python",
      "name": "python",
      "nbconvert_exporter": "python",
      "pygments_lexer": "ipython3",
      "version": "3.8.5"
    },
    "colab": {
      "name": "SPPCP_Project.ipynb",
      "provenance": [],
      "include_colab_link": true
    }
  },
  "nbformat": 4,
  "nbformat_minor": 0
}